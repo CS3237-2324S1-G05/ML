{
 "cells": [
  {
   "cell_type": "code",
   "execution_count": 1,
   "id": "06599c41-15ed-4c9b-ac26-af43fbe3cc39",
   "metadata": {},
   "outputs": [],
   "source": [
    "#source: https://github.com/computervisioneng/automatic-number-plate-recognition-python-yolov8/blob/main/util.py\n",
    "\n",
    "import easyocr\n",
    "import string\n",
    "import cv2\n",
    "import matplotlib.pyplot as plt\n",
    "from PIL import Image\n",
    "import os\n",
    "\n",
    "from ultralytics import YOLO"
   ]
  },
  {
   "cell_type": "code",
   "execution_count": 2,
   "id": "968f0241-46f3-486f-aad3-0eafc69b359e",
   "metadata": {},
   "outputs": [
    {
     "name": "stderr",
     "output_type": "stream",
     "text": [
      "Using CPU. Note: This module is much faster with a GPU.\n"
     ]
    }
   ],
   "source": [
    "# Initialize the OCR reader\n",
    "reader = easyocr.Reader(['en'], gpu=False)\n",
    "\n",
    "# Mapping dictionaries for character conversion\n",
    "dict_first_letter = {'S': 'S', '5': 'S'}\n",
    "\n",
    "dict_char_to_int = {'O': '0',\n",
    "                    'I': '1',\n",
    "                    'J': '3',\n",
    "                    'A': '4',\n",
    "                    'G': '6',\n",
    "                    'B': '8',\n",
    "                    'S': '5'}\n",
    "\n",
    "dict_int_to_char = {'2': 'Z',\n",
    "                    '3': 'J',\n",
    "                    '4': 'A',\n",
    "                    '6': 'G',\n",
    "                    '5': 'S',\n",
    "                    '8': 'B'}\n"
   ]
  },
  {
   "cell_type": "code",
   "execution_count": 3,
   "id": "00e56b36-3986-424f-b530-eb9b68f84fa0",
   "metadata": {},
   "outputs": [],
   "source": [
    "def license_complies_format(text):\n",
    "    \"\"\"\n",
    "    Check if the license plate text complies with the required format.\n",
    "\n",
    "    Args:\n",
    "        text (str): License plate text.\n",
    "\n",
    "    Returns:\n",
    "        bool: True if the license plate complies with the format, False otherwise.\n",
    "    \"\"\"\n",
    "    if len(text) != 8:\n",
    "        return False\n",
    "\n",
    "    if (text[0] in string.ascii_uppercase and text[0] in ['S', '5']) and \\\n",
    "       ((text[1] in string.ascii_uppercase or text[1] in dict_int_to_char.keys()) and text[1] not in ['1', '0', 'O', 'I']) and \\\n",
    "       ((text[2] in  string.ascii_uppercase or text[2] in dict_char_to_int.keys()) and text[2] not in ['1', '0', 'O', 'I'] ) and \\\n",
    "       (text[3] in ['0', '1', '2', '3', '4', '5', '6', '7', '8', '9'] or text[3] in dict_char_to_int.keys()) and \\\n",
    "       (text[4] in ['0', '1', '2', '3', '4', '5', '6', '7', '8', '9'] or text[4] in dict_char_to_int.keys()) and \\\n",
    "       (text[5] in ['0', '1', '2', '3', '4', '5', '6', '7', '8', '9'] or text[5] in dict_char_to_int.keys()) and \\\n",
    "       (text[6] in ['0', '1', '2', '3', '4', '5', '6', '7', '8', '9'] or text[6] in dict_char_to_int.keys()) and \\\n",
    "       ((text[7] in string.ascii_uppercase or text[7] in dict_int_to_char.keys()) and text[7] not in ['F', 'I', 'N', 'O', 'V', 'W']):\n",
    "        return True\n",
    "    else:\n",
    "        return False\n"
   ]
  },
  {
   "cell_type": "code",
   "execution_count": 4,
   "id": "752bb49c-7a4b-4c86-9284-906f29eb08e3",
   "metadata": {},
   "outputs": [],
   "source": [
    "def format_license(text):\n",
    "    \"\"\"\n",
    "    Format the license plate text by converting characters using the mapping dictionaries.\n",
    "\n",
    "    Args:\n",
    "        text (str): License plate text.\n",
    "\n",
    "    Returns:\n",
    "        str: Formatted license plate text.\n",
    "    \"\"\"\n",
    "    license_plate_ = ''\n",
    "    \n",
    "    if text[0] == '[':\n",
    "        text = text[1:]\n",
    "    \n",
    "    mapping = {0: dict_int_to_char, 1: dict_int_to_char, 4: dict_char_to_int, 5: dict_char_to_int, 6: dict_char_to_int,\n",
    "               2: dict_int_to_char, 3: dict_char_to_int, 7: dict_int_to_char}\n",
    "    for j in [0, 1, 2, 3, 4, 5, 6, 7]:\n",
    "        if text[j] in mapping[j].keys():\n",
    "            license_plate_ += mapping[j][text[j]]\n",
    "        else:\n",
    "            license_plate_ += text[j]\n",
    "\n",
    "    return license_plate_\n"
   ]
  },
  {
   "cell_type": "code",
   "execution_count": 5,
   "id": "c1bb9694-4d8d-426a-8a34-0256544df1b3",
   "metadata": {},
   "outputs": [],
   "source": [
    "def read_license_plate(license_plate_crop):\n",
    "    \"\"\"\n",
    "    Read the license plate text from the given cropped image.\n",
    "\n",
    "    Args:\n",
    "        license_plate_crop (PIL.Image.Image): Cropped image containing the license plate.\n",
    "\n",
    "    Returns:\n",
    "        tuple: Tuple containing the formatted license plate text and its confidence score.\n",
    "    \"\"\"\n",
    "\n",
    "    detections = reader.readtext(license_plate_crop)\n",
    "\n",
    "    for detection in detections:\n",
    "        bbox, text, score = detection\n",
    "\n",
    "        text = text.upper().replace(' ', '')\n",
    "\n",
    "        return format_license(text)\n",
    "\n",
    "    return format_license(text)"
   ]
  },
  {
   "cell_type": "code",
   "execution_count": 6,
   "id": "5e0ea932-1525-4eda-bef4-18d622c62583",
   "metadata": {},
   "outputs": [],
   "source": [
    "#source: https://stackoverflow.com/questions/76899615/yolov8-how-to-save-the-output-of-model\n",
    "def detect_license_plate(license_plate_img, model_path):\n",
    "    photo_path = os.path.join(license_plate_img)\n",
    "    img = Image.open(photo_path)\n",
    "    \n",
    "    # Load a model\n",
    "    model = YOLO(model_path)  # load a custom model\n",
    "    \n",
    "    # Run inference on an image\n",
    "    detected = model(img)\n",
    "    license_plate_boxes = detected[0].boxes.data.cpu().numpy()\n",
    "    print(detected[0].boxes.data.cpu().numpy())\n",
    "    for i, box in enumerate(license_plate_boxes):\n",
    "        x1, y1, x2, y2, conf, cls = box\n",
    "        license_plate = img.crop((x1, y1, x2, y2))\n",
    "        license_plate.show();\n",
    "        plate_filename = f'plates/license_plate_{i+1}.jpg'\n",
    "        license_plate.save(plate_filename)\n",
    "        results = read_license_plate(plate_filename)\n",
    "        print(f\"License Plate number: {results}\")\n",
    "\n",
    "    return 0"
   ]
  },
  {
   "cell_type": "code",
   "execution_count": 8,
   "id": "0253bf1e-995d-4f7a-90cf-7f8e741a4a74",
   "metadata": {},
   "outputs": [
    {
     "name": "stderr",
     "output_type": "stream",
     "text": [
      "\n",
      "0: 448x640 1 License_Plate, 48.3ms\n",
      "Speed: 2.1ms preprocess, 48.3ms inference, 0.7ms postprocess per image at shape (1, 3, 448, 640)\n"
     ]
    },
    {
     "name": "stdout",
     "output_type": "stream",
     "text": [
      "[[     781.82      478.95      929.02       548.7     0.71146           0]]\n",
      "License Plate number: SLP6622P\n"
     ]
    },
    {
     "data": {
      "text/plain": [
       "0"
      ]
     },
     "execution_count": 8,
     "metadata": {},
     "output_type": "execute_result"
    }
   ],
   "source": [
    "# load the image and resize it\n",
    "detect_license_plate('testImages/sgcar.jpeg', 'last.pt')"
   ]
  },
  {
   "cell_type": "code",
   "execution_count": null,
   "id": "c20c155f-6724-456a-8264-0a38440438c7",
   "metadata": {},
   "outputs": [],
   "source": []
  }
 ],
 "metadata": {
  "kernelspec": {
   "display_name": "Python 3 (ipykernel)",
   "language": "python",
   "name": "python3"
  },
  "language_info": {
   "codemirror_mode": {
    "name": "ipython",
    "version": 3
   },
   "file_extension": ".py",
   "mimetype": "text/x-python",
   "name": "python",
   "nbconvert_exporter": "python",
   "pygments_lexer": "ipython3",
   "version": "3.10.12"
  }
 },
 "nbformat": 4,
 "nbformat_minor": 5
}
