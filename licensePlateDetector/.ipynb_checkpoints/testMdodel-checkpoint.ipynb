{
 "cells": [
  {
   "cell_type": "code",
   "execution_count": 1,
   "id": "29f8a85c",
   "metadata": {},
   "outputs": [],
   "source": [
    "import os\n",
    "\n",
    "from ultralytics import YOLO, utils\n",
    "from PIL import Image\n",
    "import cv2\n"
   ]
  },
  {
   "cell_type": "code",
   "execution_count": 11,
   "id": "6744fb01",
   "metadata": {},
   "outputs": [
    {
     "name": "stderr",
     "output_type": "stream",
     "text": [
      "\n",
      "image 1/1 C:\\Users\\bloodofme\\Documents\\cs3237\\images.jpg: 320x640 1 License_Plate, 52.9ms\n",
      "Speed: 1.0ms preprocess, 52.9ms inference, 0.0ms postprocess per image at shape (1, 3, 320, 640)\n"
     ]
    },
    {
     "name": "stdout",
     "output_type": "stream",
     "text": [
      "[ultralytics.engine.results.Results object with attributes:\n",
      "\n",
      "boxes: ultralytics.engine.results.Boxes object\n",
      "keypoints: None\n",
      "masks: None\n",
      "names: {0: 'License_Plate'}\n",
      "orig_img: array([[[ 30,  28,  58],\n",
      "        [ 24,  25,  53],\n",
      "        [ 21,  25,  49],\n",
      "        ...,\n",
      "        [ 64,  83,  96],\n",
      "        [ 60,  81,  89],\n",
      "        [ 55,  76,  74]],\n",
      "\n",
      "       [[ 40,  34,  75],\n",
      "        [ 27,  24,  63],\n",
      "        [ 18,  19,  53],\n",
      "        ...,\n",
      "        [ 69,  88, 101],\n",
      "        [ 64,  85,  93],\n",
      "        [ 49,  68,  71]],\n",
      "\n",
      "       [[ 50,  39, 102],\n",
      "        [ 29,  21,  81],\n",
      "        [ 17,  12,  67],\n",
      "        ...,\n",
      "        [ 66,  86,  97],\n",
      "        [ 63,  84,  92],\n",
      "        [ 49,  65,  77]],\n",
      "\n",
      "       ...,\n",
      "\n",
      "       [[156, 145, 155],\n",
      "        [158, 147, 157],\n",
      "        [149, 138, 148],\n",
      "        ...,\n",
      "        [124, 110, 112],\n",
      "        [117, 103, 105],\n",
      "        [127, 113, 119]],\n",
      "\n",
      "       [[154, 143, 153],\n",
      "        [157, 146, 156],\n",
      "        [149, 138, 148],\n",
      "        ...,\n",
      "        [128, 114, 116],\n",
      "        [119, 105, 109],\n",
      "        [117, 105, 111]],\n",
      "\n",
      "       [[153, 142, 152],\n",
      "        [156, 145, 155],\n",
      "        [148, 137, 147],\n",
      "        ...,\n",
      "        [130, 117, 119],\n",
      "        [120, 106, 110],\n",
      "        [124, 112, 118]]], dtype=uint8)\n",
      "orig_shape: (157, 321)\n",
      "path: 'C:\\\\Users\\\\bloodofme\\\\Documents\\\\cs3237\\\\images.jpg'\n",
      "probs: None\n",
      "save_dir: None\n",
      "speed: {'preprocess': 0.9970664978027344, 'inference': 52.85811424255371, 'postprocess': 0.0}]\n"
     ]
    }
   ],
   "source": [
    "\n",
    "\n",
    "photo_path = os.path.join('images.jpg')\n",
    "photo_path_out = '{}_out.png'.format(photo_path)\n",
    "\n",
    "model_path = 'last.pt'\n",
    "\n",
    "# Load a model\n",
    "model = YOLO(model_path)  # load a custom model\n",
    "\n",
    "# Run inference on an image\n",
    "results = model(photo_path)  # results list\n",
    "print(results)\n",
    "# View results\n",
    "for r in results:\n",
    "    im_array = r.plot()  # plot a BGR numpy array of predictions\n",
    "    im = Image.fromarray(im_array[..., ::-1])  # RGB PIL image\n",
    "    im.show()  # show image\n",
    "    im.save('results.jpg')  # save image"
   ]
  },
  {
   "cell_type": "code",
   "execution_count": 6,
   "id": "71dc6539",
   "metadata": {},
   "outputs": [
    {
     "name": "stdout",
     "output_type": "stream",
     "text": [
      "cpu\n"
     ]
    }
   ],
   "source": [
    "import torch\n",
    "device: str = \"0\" if torch.backends.mps.is_available() else \"cpu\"\n",
    "print(device)"
   ]
  },
  {
   "cell_type": "code",
   "execution_count": null,
   "id": "837ff153",
   "metadata": {},
   "outputs": [],
   "source": []
  }
 ],
 "metadata": {
  "kernelspec": {
   "display_name": "Python 3 (ipykernel)",
   "language": "python",
   "name": "python3"
  },
  "language_info": {
   "codemirror_mode": {
    "name": "ipython",
    "version": 3
   },
   "file_extension": ".py",
   "mimetype": "text/x-python",
   "name": "python",
   "nbconvert_exporter": "python",
   "pygments_lexer": "ipython3",
   "version": "3.11.5"
  }
 },
 "nbformat": 4,
 "nbformat_minor": 5
}
