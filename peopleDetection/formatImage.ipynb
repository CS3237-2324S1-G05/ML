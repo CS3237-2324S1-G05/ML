{
 "cells": [
  {
   "cell_type": "code",
   "execution_count": 1,
   "id": "4f1e912c-8059-4298-891a-6210abc39df6",
   "metadata": {},
   "outputs": [],
   "source": [
    "import os\n",
    "import cv2"
   ]
  },
  {
   "cell_type": "code",
   "execution_count": 2,
   "id": "5401e4ef-8913-4f36-9a20-680ff055d4bf",
   "metadata": {},
   "outputs": [
    {
     "name": "stdout",
     "output_type": "stream",
     "text": [
      "Resized: 20231027113051.jpg\n",
      "Resized: 20231027112213.jpg\n",
      "Resized: capture_68.jpeg\n",
      "Resized: capture_44.jpeg\n",
      "Resized: capture_52.jpeg\n",
      "Resized: 20231027112358.jpg\n",
      "Resized: capture_64.jpeg\n",
      "Resized: 20231027112946.jpg\n",
      "Resized: capture_48.jpeg\n",
      "Resized: testperson.jpeg\n",
      "Resized: 20231027113057.jpg\n",
      "Resized: 20231027112201.jpg\n",
      "Resized: capture_49.jpeg\n",
      "Resized: capture_65.jpeg\n",
      "Resized: 20231027113254.jpg\n",
      "Resized: capture_53.jpeg\n",
      "Resized: capture_45.jpeg\n",
      "Resized: capture_69.jpeg\n",
      "Resized: 20231027112258.jpg\n",
      "Resized: capture_62.jpeg\n",
      "Resized: 20231027112715.jpg\n",
      "Resized: capture_58.jpeg\n",
      "Resized: 20231027112649.jpg\n",
      "Resized: 20231027112703.jpg\n",
      "Resized: capture_42.jpeg\n",
      "Resized: capture_54.jpeg\n",
      "Resized: capture_55.jpeg\n",
      "Resized: capture_43.jpeg\n",
      "Resized: 20231027112840.jpg\n",
      "Resized: capture_59.jpeg\n",
      "Resized: capture_63.jpeg\n",
      "Resized: testpeople.jpg\n",
      "Resized: 20231027112655.jpg\n",
      "Resized: 20231027112251.jpg\n",
      "Resized: 20231027112735.jpg\n",
      "Resized: capture_60.jpeg\n",
      "Resized: capture_56.jpeg\n",
      "Resized: capture_.jpeg\n",
      "Resized: 20231027112333.jpg\n",
      "Resized: 20231027112914.jpg\n",
      "Resized: 20231027112242.jpg\n",
      "Resized: capture_57.jpeg\n",
      "Resized: 20231027112644.jpg\n",
      "Resized: capture_61.jpeg\n",
      "Resized: 20231027112321.jpg\n",
      "Resized: capture_50.jpeg\n",
      "Resized: 20231027112805.jpg\n",
      "Resized: 20231027112226.jpg\n",
      "Resized: capture_46.jpeg\n",
      "Resized: 20231027112741.jpg\n",
      "Resized: capture_66.jpeg\n",
      "Resized: capture_70.jpeg\n",
      "Resized: 20231027112813.jpg\n",
      "Resized: capture_67.jpeg\n",
      "Resized: 20231027112800.jpg\n",
      "Resized: capture_47.jpeg\n",
      "Resized: capture_45.jpg\n",
      "Resized: capture_51.jpeg\n",
      "Image resizing complete.\n"
     ]
    }
   ],
   "source": [
    "input_folder = \"peopleDataset\"\n",
    "\n",
    "output_folder = \"peopleDatasetFormatted\"\n",
    "\n",
    "target_width = 640\n",
    "\n",
    "if not os.path.exists(output_folder):\n",
    "    os.makedirs(output_folder)\n",
    "\n",
    "\n",
    "files = os.listdir(input_folder)\n",
    "\n",
    "for file in files:\n",
    "    if file.lower().endswith(('.jpg', '.jpeg', '.png')):\n",
    "        # Read the image\n",
    "        image = cv2.imread(os.path.join(input_folder, file))\n",
    "        \n",
    "        if image is not None:\n",
    "            height, width = image.shape[:2]\n",
    "            new_height = int(target_width * (height / width))\n",
    "            resized_image = cv2.resize(image, (target_width, new_height))\n",
    "            output = os.path.join(output_folder, file)\n",
    "            cv2.imwrite(output, resized_image)\n",
    "\n",
    "print(\"Image resizing complete.\")"
   ]
  },
  {
   "cell_type": "code",
   "execution_count": 4,
   "id": "53b14f50-75fa-4819-b83a-d016168e9223",
   "metadata": {},
   "outputs": [
    {
     "name": "stdout",
     "output_type": "stream",
     "text": [
      "Requirement already satisfied: roboflow in /Users/bloodofme/anaconda3/envs/cs3237/lib/python3.10/site-packages (1.1.7)\n",
      "Requirement already satisfied: certifi==2022.12.7 in /Users/bloodofme/anaconda3/envs/cs3237/lib/python3.10/site-packages (from roboflow) (2022.12.7)\n",
      "Requirement already satisfied: chardet==4.0.0 in /Users/bloodofme/anaconda3/envs/cs3237/lib/python3.10/site-packages (from roboflow) (4.0.0)\n",
      "Requirement already satisfied: cycler==0.10.0 in /Users/bloodofme/anaconda3/envs/cs3237/lib/python3.10/site-packages (from roboflow) (0.10.0)\n",
      "Requirement already satisfied: idna==2.10 in /Users/bloodofme/anaconda3/envs/cs3237/lib/python3.10/site-packages (from roboflow) (2.10)\n",
      "Requirement already satisfied: kiwisolver>=1.3.1 in /Users/bloodofme/anaconda3/envs/cs3237/lib/python3.10/site-packages (from roboflow) (1.4.5)\n",
      "Requirement already satisfied: matplotlib in /Users/bloodofme/anaconda3/envs/cs3237/lib/python3.10/site-packages (from roboflow) (3.8.0)\n",
      "Requirement already satisfied: numpy>=1.18.5 in /Users/bloodofme/anaconda3/envs/cs3237/lib/python3.10/site-packages (from roboflow) (1.25.2)\n",
      "Requirement already satisfied: opencv-python-headless==4.8.0.74 in /Users/bloodofme/anaconda3/envs/cs3237/lib/python3.10/site-packages (from roboflow) (4.8.0.74)\n",
      "Requirement already satisfied: Pillow>=7.1.2 in /Users/bloodofme/anaconda3/envs/cs3237/lib/python3.10/site-packages (from roboflow) (10.0.0)\n",
      "Requirement already satisfied: pyparsing==2.4.7 in /Users/bloodofme/anaconda3/envs/cs3237/lib/python3.10/site-packages (from roboflow) (2.4.7)\n",
      "Requirement already satisfied: python-dateutil in /Users/bloodofme/anaconda3/envs/cs3237/lib/python3.10/site-packages (from roboflow) (2.8.2)\n",
      "Requirement already satisfied: python-dotenv in /Users/bloodofme/anaconda3/envs/cs3237/lib/python3.10/site-packages (from roboflow) (1.0.0)\n",
      "Requirement already satisfied: requests in /Users/bloodofme/anaconda3/envs/cs3237/lib/python3.10/site-packages (from roboflow) (2.31.0)\n",
      "Requirement already satisfied: six in /Users/bloodofme/anaconda3/envs/cs3237/lib/python3.10/site-packages (from roboflow) (1.16.0)\n",
      "Requirement already satisfied: supervision in /Users/bloodofme/anaconda3/envs/cs3237/lib/python3.10/site-packages (from roboflow) (0.15.0)\n",
      "Requirement already satisfied: urllib3>=1.26.6 in /Users/bloodofme/anaconda3/envs/cs3237/lib/python3.10/site-packages (from roboflow) (2.0.4)\n",
      "Requirement already satisfied: tqdm>=4.41.0 in /Users/bloodofme/anaconda3/envs/cs3237/lib/python3.10/site-packages (from roboflow) (4.66.1)\n",
      "Requirement already satisfied: PyYAML>=5.3.1 in /Users/bloodofme/anaconda3/envs/cs3237/lib/python3.10/site-packages (from roboflow) (6.0.1)\n",
      "Requirement already satisfied: requests-toolbelt in /Users/bloodofme/anaconda3/envs/cs3237/lib/python3.10/site-packages (from roboflow) (1.0.0)\n",
      "Requirement already satisfied: contourpy>=1.0.1 in /Users/bloodofme/anaconda3/envs/cs3237/lib/python3.10/site-packages (from matplotlib->roboflow) (1.1.0)\n",
      "Requirement already satisfied: fonttools>=4.22.0 in /Users/bloodofme/anaconda3/envs/cs3237/lib/python3.10/site-packages (from matplotlib->roboflow) (4.42.1)\n",
      "Requirement already satisfied: packaging>=20.0 in /Users/bloodofme/anaconda3/envs/cs3237/lib/python3.10/site-packages (from matplotlib->roboflow) (23.1)\n",
      "Requirement already satisfied: charset-normalizer<4,>=2 in /Users/bloodofme/anaconda3/envs/cs3237/lib/python3.10/site-packages (from requests->roboflow) (3.2.0)\n",
      "Requirement already satisfied: scipy<2.0.0,>=1.9.0 in /Users/bloodofme/anaconda3/envs/cs3237/lib/python3.10/site-packages (from supervision->roboflow) (1.11.2)\n",
      "loading Roboflow workspace...\n",
      "loading Roboflow project...\n",
      "Dependency ultralytics==8.0.134 is required but found version=8.0.195, to fix: `pip install ultralytics==8.0.134`\n"
     ]
    },
    {
     "ename": "RuntimeError",
     "evalue": "{'progress': 0.001}",
     "output_type": "error",
     "traceback": [
      "\u001b[0;31m---------------------------------------------------------------------------\u001b[0m",
      "\u001b[0;31mRuntimeError\u001b[0m                              Traceback (most recent call last)",
      "Cell \u001b[0;32mIn[4], line 6\u001b[0m\n\u001b[1;32m      4\u001b[0m rf \u001b[38;5;241m=\u001b[39m Roboflow(api_key\u001b[38;5;241m=\u001b[39m\u001b[38;5;124m\"\u001b[39m\u001b[38;5;124m0vk7NpCjCOBDGhgOTfj3\u001b[39m\u001b[38;5;124m\"\u001b[39m)\n\u001b[1;32m      5\u001b[0m project \u001b[38;5;241m=\u001b[39m rf\u001b[38;5;241m.\u001b[39mworkspace(\u001b[38;5;124m\"\u001b[39m\u001b[38;5;124mfor-project-rsocw\u001b[39m\u001b[38;5;124m\"\u001b[39m)\u001b[38;5;241m.\u001b[39mproject(\u001b[38;5;124m\"\u001b[39m\u001b[38;5;124mpeople-detection-suxwr\u001b[39m\u001b[38;5;124m\"\u001b[39m)\n\u001b[0;32m----> 6\u001b[0m dataset \u001b[38;5;241m=\u001b[39m \u001b[43mproject\u001b[49m\u001b[38;5;241;43m.\u001b[39;49m\u001b[43mversion\u001b[49m\u001b[43m(\u001b[49m\u001b[38;5;241;43m1\u001b[39;49m\u001b[43m)\u001b[49m\u001b[38;5;241;43m.\u001b[39;49m\u001b[43mdownload\u001b[49m\u001b[43m(\u001b[49m\u001b[38;5;124;43m\"\u001b[39;49m\u001b[38;5;124;43myolov8\u001b[39;49m\u001b[38;5;124;43m\"\u001b[39;49m\u001b[43m)\u001b[49m\n",
      "File \u001b[0;32m~/anaconda3/envs/cs3237/lib/python3.10/site-packages/roboflow/core/version.py:232\u001b[0m, in \u001b[0;36mVersion.download\u001b[0;34m(self, model_format, location, overwrite)\u001b[0m\n\u001b[1;32m    230\u001b[0m \u001b[38;5;28;01melse\u001b[39;00m:\n\u001b[1;32m    231\u001b[0m     \u001b[38;5;28;01mtry\u001b[39;00m:\n\u001b[0;32m--> 232\u001b[0m         \u001b[38;5;28;01mraise\u001b[39;00m \u001b[38;5;167;01mRuntimeError\u001b[39;00m(response\u001b[38;5;241m.\u001b[39mjson())\n\u001b[1;32m    233\u001b[0m     \u001b[38;5;28;01mexcept\u001b[39;00m json\u001b[38;5;241m.\u001b[39mJSONDecodeError:\n\u001b[1;32m    234\u001b[0m         response\u001b[38;5;241m.\u001b[39mraise_for_status()\n",
      "\u001b[0;31mRuntimeError\u001b[0m: {'progress': 0.001}"
     ]
    }
   ],
   "source": [
    "!pip install roboflow\n",
    "\n",
    "from roboflow import Roboflow\n",
    "rf = Roboflow(api_key=\"0vk7NpCjCOBDGhgOTfj3\")\n",
    "project = rf.workspace(\"for-project-rsocw\").project(\"people-detection-suxwr\")\n",
    "dataset = project.version(1).download(\"yolov8\")\n"
   ]
  },
  {
   "cell_type": "code",
   "execution_count": null,
   "id": "b405305c-2702-407f-8079-c6546713c028",
   "metadata": {},
   "outputs": [],
   "source": []
  }
 ],
 "metadata": {
  "kernelspec": {
   "display_name": "Python 3 (ipykernel)",
   "language": "python",
   "name": "python3"
  },
  "language_info": {
   "codemirror_mode": {
    "name": "ipython",
    "version": 3
   },
   "file_extension": ".py",
   "mimetype": "text/x-python",
   "name": "python",
   "nbconvert_exporter": "python",
   "pygments_lexer": "ipython3",
   "version": "3.10.12"
  }
 },
 "nbformat": 4,
 "nbformat_minor": 5
}
