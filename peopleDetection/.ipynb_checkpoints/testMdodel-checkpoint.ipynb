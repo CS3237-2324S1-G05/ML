{
 "cells": [
  {
   "cell_type": "code",
   "execution_count": 1,
   "id": "29f8a85c",
   "metadata": {},
   "outputs": [],
   "source": [
    "import os\n",
    "\n",
    "from ultralytics import YOLO, utils\n",
    "from PIL import Image\n",
    "import cv2\n"
   ]
  },
  {
   "cell_type": "code",
   "execution_count": 3,
   "id": "6744fb01",
   "metadata": {},
   "outputs": [
    {
     "name": "stderr",
     "output_type": "stream",
     "text": [
      "\n",
      "image 1/1 /Users/bloodofme/Documents/uni/Modules/year4sem1/cs3237/project/licensePlateDetector/backtest.jpg: 640x480 1 License_Plate, 67.4ms\n",
      "Speed: 9.5ms preprocess, 67.4ms inference, 0.8ms postprocess per image at shape (1, 3, 640, 480)\n"
     ]
    },
    {
     "name": "stdout",
     "output_type": "stream",
     "text": [
      "[ultralytics.engine.results.Results object with attributes:\n",
      "\n",
      "boxes: ultralytics.engine.results.Boxes object\n",
      "keypoints: None\n",
      "masks: None\n",
      "names: {0: 'License_Plate'}\n",
      "orig_img: array([[[162, 163, 159],\n",
      "        [162, 163, 159],\n",
      "        [161, 162, 158],\n",
      "        ...,\n",
      "        [ 56,  40,  28],\n",
      "        [ 57,  41,  29],\n",
      "        [ 57,  41,  29]],\n",
      "\n",
      "       [[162, 163, 159],\n",
      "        [161, 162, 158],\n",
      "        [161, 162, 158],\n",
      "        ...,\n",
      "        [ 58,  42,  30],\n",
      "        [ 59,  43,  31],\n",
      "        [ 59,  43,  31]],\n",
      "\n",
      "       [[161, 162, 158],\n",
      "        [161, 162, 158],\n",
      "        [161, 162, 158],\n",
      "        ...,\n",
      "        [ 61,  45,  33],\n",
      "        [ 61,  45,  33],\n",
      "        [ 62,  46,  34]],\n",
      "\n",
      "       ...,\n",
      "\n",
      "       [[ 99, 122, 148],\n",
      "        [ 99, 122, 148],\n",
      "        [100, 123, 149],\n",
      "        ...,\n",
      "        [209, 219, 229],\n",
      "        [207, 217, 227],\n",
      "        [205, 215, 225]],\n",
      "\n",
      "       [[ 98, 121, 147],\n",
      "        [ 98, 121, 147],\n",
      "        [ 99, 122, 148],\n",
      "        ...,\n",
      "        [209, 219, 229],\n",
      "        [207, 217, 227],\n",
      "        [206, 216, 226]],\n",
      "\n",
      "       [[ 98, 121, 147],\n",
      "        [ 98, 121, 147],\n",
      "        [ 98, 121, 147],\n",
      "        ...,\n",
      "        [209, 219, 229],\n",
      "        [207, 217, 227],\n",
      "        [205, 215, 225]]], dtype=uint8)\n",
      "orig_shape: (1280, 960)\n",
      "path: '/Users/bloodofme/Documents/uni/Modules/year4sem1/cs3237/project/licensePlateDetector/backtest.jpg'\n",
      "probs: None\n",
      "save_dir: None\n",
      "speed: {'preprocess': 9.456872940063477, 'inference': 67.42691993713379, 'postprocess': 0.7569789886474609}]\n"
     ]
    }
   ],
   "source": [
    "\n",
    "\n",
    "photo_path = os.path.join('backtest.jpg')\n",
    "photo_path_out = '{}_out.png'.format(photo_path)\n",
    "\n",
    "model_path = 'last.pt'\n",
    "\n",
    "# Load a model\n",
    "model = YOLO(model_path)  # load a custom model\n",
    "\n",
    "# Run inference on an image\n",
    "results = model(photo_path)  # results list\n",
    "print(results)\n",
    "# View results\n",
    "for r in results:\n",
    "    im_array = r.plot()  # plot a BGR numpy array of predictions\n",
    "    im = Image.fromarray(im_array[..., ::-1])  # RGB PIL image\n",
    "    im.show()  # show image\n",
    "    im.save('results.jpg')  # save image"
   ]
  },
  {
   "cell_type": "code",
   "execution_count": null,
   "id": "837ff153",
   "metadata": {},
   "outputs": [],
   "source": []
  }
 ],
 "metadata": {
  "kernelspec": {
   "display_name": "Python 3 (ipykernel)",
   "language": "python",
   "name": "python3"
  },
  "language_info": {
   "codemirror_mode": {
    "name": "ipython",
    "version": 3
   },
   "file_extension": ".py",
   "mimetype": "text/x-python",
   "name": "python",
   "nbconvert_exporter": "python",
   "pygments_lexer": "ipython3",
   "version": "3.10.12"
  }
 },
 "nbformat": 4,
 "nbformat_minor": 5
}
