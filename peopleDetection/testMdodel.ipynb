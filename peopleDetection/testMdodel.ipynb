{
 "cells": [
  {
   "cell_type": "code",
   "execution_count": 7,
   "id": "29f8a85c",
   "metadata": {},
   "outputs": [],
   "source": [
    "import os\n",
    "\n",
    "from ultralytics import YOLO, utils\n",
    "from PIL import Image\n",
    "import cv2\n"
   ]
  },
  {
   "cell_type": "code",
   "execution_count": 9,
   "id": "6744fb01",
   "metadata": {},
   "outputs": [
    {
     "name": "stderr",
     "output_type": "stream",
     "text": [
      "\n",
      "image 1/1 /Users/bloodofme/Documents/uni/Modules/year4sem1/cs3237/project/peopleDetection/testpeople.jpeg: 480x640 1 people, 62.9ms\n",
      "Speed: 10.3ms preprocess, 62.9ms inference, 12.3ms postprocess per image at shape (1, 3, 480, 640)\n"
     ]
    },
    {
     "name": "stdout",
     "output_type": "stream",
     "text": [
      "[ultralytics.engine.results.Results object with attributes:\n",
      "\n",
      "boxes: ultralytics.engine.results.Boxes object\n",
      "keypoints: None\n",
      "masks: None\n",
      "names: {0: 'people'}\n",
      "orig_img: array([[[ 55,  49,  44],\n",
      "        [ 53,  47,  42],\n",
      "        [ 60,  54,  49],\n",
      "        ...,\n",
      "        [198, 233, 253],\n",
      "        [198, 233, 253],\n",
      "        [198, 233, 253]],\n",
      "\n",
      "       [[ 44,  38,  33],\n",
      "        [ 46,  40,  35],\n",
      "        [ 56,  50,  45],\n",
      "        ...,\n",
      "        [198, 233, 253],\n",
      "        [198, 233, 253],\n",
      "        [198, 233, 253]],\n",
      "\n",
      "       [[ 53,  47,  42],\n",
      "        [ 50,  44,  39],\n",
      "        [ 55,  49,  44],\n",
      "        ...,\n",
      "        [199, 234, 254],\n",
      "        [199, 234, 254],\n",
      "        [199, 234, 254]],\n",
      "\n",
      "       ...,\n",
      "\n",
      "       [[ 40,  68, 109],\n",
      "        [ 41,  69, 110],\n",
      "        [ 36,  64, 105],\n",
      "        ...,\n",
      "        [ 56, 103, 157],\n",
      "        [ 58, 105, 159],\n",
      "        [ 59, 106, 160]],\n",
      "\n",
      "       [[ 42,  70, 111],\n",
      "        [ 46,  74, 115],\n",
      "        [ 42,  70, 111],\n",
      "        ...,\n",
      "        [ 66, 113, 167],\n",
      "        [ 67, 114, 168],\n",
      "        [ 64, 111, 165]],\n",
      "\n",
      "       [[ 35,  63, 104],\n",
      "        [ 41,  69, 110],\n",
      "        [ 44,  72, 113],\n",
      "        ...,\n",
      "        [ 54, 101, 155],\n",
      "        [ 53, 100, 154],\n",
      "        [ 51,  98, 152]]], dtype=uint8)\n",
      "orig_shape: (3024, 4032)\n",
      "path: '/Users/bloodofme/Documents/uni/Modules/year4sem1/cs3237/project/peopleDetection/testpeople.jpeg'\n",
      "probs: None\n",
      "save_dir: None\n",
      "speed: {'preprocess': 10.293960571289062, 'inference': 62.89029121398926, 'postprocess': 12.250900268554688}]\n"
     ]
    }
   ],
   "source": [
    "\n",
    "\n",
    "photo_path = os.path.join('testpeople.jpeg')\n",
    "photo_path_out = '{}_out.png'.format(photo_path)\n",
    "\n",
    "model_path = 'people.pt'\n",
    "\n",
    "# Load a model\n",
    "model = YOLO(model_path)  # load a custom model\n",
    "\n",
    "# Run inference on an image\n",
    "results = model(photo_path)  # results list\n",
    "print(results)\n",
    "# View results\n",
    "for r in results:\n",
    "    im_array = r.plot()  # plot a BGR numpy array of predictions\n",
    "    im = Image.fromarray(im_array[..., ::-1])  # RGB PIL image\n",
    "    im.show()  # show image\n",
    "    im.save('results.jpg')  # save image"
   ]
  },
  {
   "cell_type": "code",
   "execution_count": null,
   "id": "837ff153",
   "metadata": {},
   "outputs": [],
   "source": []
  },
  {
   "cell_type": "code",
   "execution_count": null,
   "id": "347af097-3bbf-4619-8c43-ddae2cbb9987",
   "metadata": {},
   "outputs": [],
   "source": []
  }
 ],
 "metadata": {
  "kernelspec": {
   "display_name": "Python 3 (ipykernel)",
   "language": "python",
   "name": "python3"
  },
  "language_info": {
   "codemirror_mode": {
    "name": "ipython",
    "version": 3
   },
   "file_extension": ".py",
   "mimetype": "text/x-python",
   "name": "python",
   "nbconvert_exporter": "python",
   "pygments_lexer": "ipython3",
   "version": "3.10.12"
  }
 },
 "nbformat": 4,
 "nbformat_minor": 5
}
